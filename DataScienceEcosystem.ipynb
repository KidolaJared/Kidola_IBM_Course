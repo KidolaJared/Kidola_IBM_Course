{
  "metadata": {
    "language_info": {
      "codemirror_mode": {
        "name": "python",
        "version": 3
      },
      "file_extension": ".py",
      "mimetype": "text/x-python",
      "name": "python",
      "nbconvert_exporter": "python",
      "pygments_lexer": "ipython3",
      "version": "3.8"
    },
    "kernelspec": {
      "name": "python",
      "display_name": "Python (Pyodide)",
      "language": "python"
    }
  },
  "nbformat_minor": 4,
  "nbformat": 4,
  "cells": [
    {
      "cell_type": "markdown",
      "source": "# Data Science Tools and Ecosystem",
      "metadata": {}
    },
    {
      "cell_type": "markdown",
      "source": "In this notebook, Data Science Tools and Ecosysytem are summarized ",
      "metadata": {}
    },
    {
      "cell_type": "markdown",
      "source": "**Objectives:**\n\n- List popular languages for Data Science.\n- Create a Jupyter Notebook\n- How to create a markdown cell \n- Creating a markdown cell to list Data Science Libraries\n- How to create tables in markdown cells\n",
      "metadata": {}
    },
    {
      "cell_type": "markdown",
      "source": "**The are several programming languages which used in Data Science. These may include :**\n",
      "metadata": {}
    },
    {
      "cell_type": "markdown",
      "source": "    1. Python\n    2. R- Language \n    3. Scala\n    4. SQL\n    5. julia",
      "metadata": {}
    },
    {
      "cell_type": "markdown",
      "source": "___Some of the commonly used libraries used by Data Scientists include:___",
      "metadata": {}
    },
    {
      "cell_type": "markdown",
      "source": "1. Numpy\n2. Seaborn\n3. Matplotlib\n4. Pandas\n5. Scikit_Learn\n6. Tensor flow\n",
      "metadata": {}
    },
    {
      "cell_type": "markdown",
      "source": "| Data Science Tools       |\n|:--------------------------|\n|1. Jupyter Notebook      |\n|2. Visual Studio Code    |\n|3. RStudio                |",
      "metadata": {}
    },
    {
      "cell_type": "markdown",
      "source": "### Below are a few examples of evaluating arithmetic expressions in Python.\n",
      "metadata": {}
    },
    {
      "cell_type": "code",
      "source": "'''This a simple arithmetic expression to mutiply then add integers'''\n(3*4)+5",
      "metadata": {
        "trusted": true
      },
      "execution_count": 1,
      "outputs": [
        {
          "execution_count": 1,
          "output_type": "execute_result",
          "data": {
            "text/plain": "17"
          },
          "metadata": {}
        }
      ]
    },
    {
      "cell_type": "code",
      "source": "'''This will convert 200 minutes to hours by diving by 60''' \nimport sympy\nhrs= 200/60\nhrs",
      "metadata": {
        "trusted": true
      },
      "execution_count": 18,
      "outputs": [
        {
          "execution_count": 18,
          "output_type": "execute_result",
          "data": {
            "text/plain": "3.3333333333333335"
          },
          "metadata": {}
        }
      ]
    },
    {
      "cell_type": "markdown",
      "source": "## Author\nKidola Jared \n",
      "metadata": {}
    },
    {
      "cell_type": "code",
      "source": "",
      "metadata": {},
      "execution_count": null,
      "outputs": []
    }
  ]
}